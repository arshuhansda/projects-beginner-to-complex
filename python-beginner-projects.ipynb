{
 "cells": [
  {
   "cell_type": "markdown",
   "metadata": {},
   "source": [
    "###  12 Projects\n",
    "1. Madlibs\n",
    "2. Guess the Number (computer)\n",
    "3. Guess the Number (user)\n",
    "4. Rock Paper Scissors\n",
    "5. Hangman\n",
    "6. Tic-Tac-Toe\n",
    "7. Tic-Tac-Toe AI\n",
    "8. Binary Search\n",
    "9. Minesweeper\n",
    "10. Sudoku Solver\n",
    "11. Photo Processing\n",
    "12. Markov Chain Composer"
   ]
  },
  {
   "cell_type": "markdown",
   "metadata": {},
   "source": [
    "# 1. Madlibs\n",
    "Madlib Description (to be updated)"
   ]
  },
  {
   "cell_type": "markdown",
   "metadata": {},
   "source": [
    "###### Types of string Concatenation"
   ]
  },
  {
   "cell_type": "code",
   "execution_count": 1,
   "metadata": {},
   "outputs": [],
   "source": [
    "name = \"Arshu\""
   ]
  },
  {
   "cell_type": "code",
   "execution_count": 2,
   "metadata": {},
   "outputs": [
    {
     "name": "stdout",
     "output_type": "stream",
     "text": [
      "This is my Arshu\n"
     ]
    }
   ],
   "source": [
    "print(\"This is my \"+ name)"
   ]
  },
  {
   "cell_type": "code",
   "execution_count": 3,
   "metadata": {},
   "outputs": [
    {
     "name": "stdout",
     "output_type": "stream",
     "text": [
      "This is my Arshu\n"
     ]
    }
   ],
   "source": [
    "print(\"This is my {}\".format(name))"
   ]
  },
  {
   "cell_type": "code",
   "execution_count": 4,
   "metadata": {},
   "outputs": [
    {
     "name": "stdout",
     "output_type": "stream",
     "text": [
      "This is my Arshu\n"
     ]
    }
   ],
   "source": [
    "print(f'This is my {name}') #cleanest way to express concatenation"
   ]
  },
  {
   "cell_type": "code",
   "execution_count": 5,
   "metadata": {},
   "outputs": [
    {
     "name": "stdout",
     "output_type": "stream",
     "text": [
      "Adjective: great\n",
      "Verb:jump\n",
      "Verb:laugh\n",
      "Famous Person: Harr Potter\n",
      "Computer programming is so great! It makes me  so excited all the time because \\ I love to jump. Stay hydrated and laugh like you are Harr Potter!\n"
     ]
    }
   ],
   "source": [
    "adj = input(\"Adjective: \")\n",
    "verb1 = input(\"Verb:\")\n",
    "verb2 = input(\"Verb:\")\n",
    "famous_person = input(\"Famous Person: \")\n",
    "madlib = f\"Computer programming is so {adj}! It makes me  so excited all the time because \\ I love to {verb1}. Stay hydrated and {verb2} like you are {famous_person}!\"\n",
    "print(madlib)"
   ]
  },
  {
   "cell_type": "markdown",
   "metadata": {},
   "source": [
    "\n",
    "\n",
    "# 2. Guess the Number (Computer)\n",
    "Small description (to be updated)"
   ]
  },
  {
   "cell_type": "code",
   "execution_count": 6,
   "metadata": {},
   "outputs": [],
   "source": [
    "import random"
   ]
  },
  {
   "cell_type": "code",
   "execution_count": 7,
   "metadata": {},
   "outputs": [],
   "source": [
    "def guess(x):\n",
    "    random_number = random.randint(1,x)\n",
    "    guess = 0\n",
    "    while guess != random_number:\n",
    "        guess = int(input(f'Guess a number between 1 and {x}: '))\n",
    "        if guess < random_number:\n",
    "            print('Sorry, guess again. Too low.')\n",
    "        elif guess > random_number:\n",
    "            print('Sorry, guess again. Too high.')\n",
    "        \n",
    "        \n",
    "    print(f\"Yay, congrats. You have guess the number {random_number} correctly!!\")"
   ]
  },
  {
   "cell_type": "code",
   "execution_count": 8,
   "metadata": {},
   "outputs": [
    {
     "name": "stdout",
     "output_type": "stream",
     "text": [
      "Guess a number between 1 and 10: 5\n",
      "Yay, congrats. You have guess the number 5 correctly!!\n"
     ]
    }
   ],
   "source": [
    "guess(10)"
   ]
  },
  {
   "cell_type": "markdown",
   "metadata": {},
   "source": [
    "\n",
    "\n",
    "# 3.Guess the number (user)\n",
    "(to be updated)"
   ]
  },
  {
   "cell_type": "code",
   "execution_count": 9,
   "metadata": {},
   "outputs": [],
   "source": [
    "def computer_guess(x):\n",
    "    low = 1\n",
    "    high = x\n",
    "    feedback = \"\"\n",
    "    while feedback != 'c':\n",
    "        if low != high:\n",
    "            guess = random.randint(low, high)\n",
    "        else:\n",
    "            guess = low #could also be high  b/c low=high\n",
    "        \n",
    "        feedback = input(f'Is {guess} too high (H), too low (L), or correct (C)?? ').lower()\n",
    "        if feedback == 'h':\n",
    "            high = guess - 1\n",
    "        elif feedback == 'l':\n",
    "            low = guess + 1\n",
    "            \n",
    "    print(f\"Yay! The computer guess your number, {guess}, correctly!\")"
   ]
  },
  {
   "cell_type": "code",
   "execution_count": 10,
   "metadata": {},
   "outputs": [
    {
     "name": "stdout",
     "output_type": "stream",
     "text": [
      "Is 56 too high (H), too low (L), or correct (C)?? h\n",
      "Is 28 too high (H), too low (L), or correct (C)?? l\n",
      "Is 29 too high (H), too low (L), or correct (C)?? l\n",
      "Is 39 too high (H), too low (L), or correct (C)?? l\n",
      "Is 48 too high (H), too low (L), or correct (C)?? l\n",
      "Is 54 too high (H), too low (L), or correct (C)?? l\n",
      "Is 55 too high (H), too low (L), or correct (C)?? c\n",
      "Yay! The computer guess your number, 55, correctly!\n"
     ]
    }
   ],
   "source": [
    "computer_guess(100)"
   ]
  },
  {
   "cell_type": "markdown",
   "metadata": {},
   "source": [
    " "
   ]
  },
  {
   "cell_type": "markdown",
   "metadata": {},
   "source": [
    "# 4. Rock Paper Scissors\n",
    "(to be updated)"
   ]
  },
  {
   "cell_type": "code",
   "execution_count": 11,
   "metadata": {},
   "outputs": [],
   "source": [
    "import random"
   ]
  },
  {
   "cell_type": "code",
   "execution_count": 16,
   "metadata": {},
   "outputs": [],
   "source": [
    "def play():\n",
    "    user = input(\"'r' for rock, 'p' for paper, 's' for scissors\\n\")\n",
    "    computer = random.choice(['r','p','s'])\n",
    "    \n",
    "    if user == computer:\n",
    "        return 'It\\'s a tie'\n",
    "    # r > s, s > p, p >r\n",
    "    \n",
    "    if is_win(user, computer):\n",
    "        return 'You won!'\n",
    "    \n",
    "    return 'You lost!'\n",
    "\n",
    "def is_win(player, opponent):\n",
    "    \n",
    "    #return true if player wins\n",
    "    if (player == 'r' and opponent == 's') or (player == 's' and opponent == 'p') or (player == 'p' and opponent == 'r'):\n",
    "        return True"
   ]
  },
  {
   "cell_type": "code",
   "execution_count": 19,
   "metadata": {
    "scrolled": true
   },
   "outputs": [
    {
     "name": "stdout",
     "output_type": "stream",
     "text": [
      "'r' for rock, 'p' for paper, 's' for scissors\n",
      "s\n",
      "You won!\n"
     ]
    }
   ],
   "source": [
    "print(play())"
   ]
  },
  {
   "cell_type": "markdown",
   "metadata": {},
   "source": [
    " "
   ]
  },
  {
   "cell_type": "markdown",
   "metadata": {},
   "source": [
    "\n",
    "# 5. Hangman\n",
    "(to be updated)"
   ]
  },
  {
   "cell_type": "code",
   "execution_count": null,
   "metadata": {},
   "outputs": [],
   "source": [
    "import random\n",
    "from words import words\n",
    "import string"
   ]
  },
  {
   "cell_type": "code",
   "execution_count": 51,
   "metadata": {},
   "outputs": [],
   "source": [
    "def get_valid_word(words):\n",
    "    word = random.choice(words) #randomly choose something from the list\n",
    "    while '-' in word or ' ' in word:\n",
    "        word = random.choice(words)\n",
    "        \n",
    "    return word\n",
    "\n",
    "def hangman():\n",
    "    word = get_valid_word(words).upper()\n",
    "    \n",
    "    #print(f\"word is {word}\")\n",
    "    \n",
    "    word_letters = set(word) # letters in the word\n",
    "    alphabet = set(string.ascii_uppercase)\n",
    "    used_letters = set() #what the user has guessed\n",
    "    \n",
    "    lives = 6\n",
    "    \n",
    "    #getting user input\n",
    "    while len(word_letters) > 0 and lives > 0:\n",
    "        # letters used\n",
    "        print('You have',lives, 'lives and you used these letters:',' '.join(used_letters))\n",
    "        \n",
    "        #what current word if \n",
    "        word_list = [letter if letter in used_letters else '-' for letter in word]\n",
    "        print('Current word: ',' '.join(word_list))\n",
    "        \n",
    "        user_letter = input('Guess a letter: ').upper()\n",
    "        \n",
    "        #print(f'user letter is {user_letter}')\n",
    "        #print(f'alphabet list is : {alphabet}\\n')\n",
    "\n",
    "        if user_letter in (alphabet - used_letters):\n",
    "            used_letters.add(user_letter)\n",
    "            if user_letter in word_letters:\n",
    "                word_letters.remove(user_letter)\n",
    "                print('')\n",
    "            \n",
    "            else:\n",
    "                lives = lives -1\n",
    "                print('Letter is not in word.')\n",
    "\n",
    "        elif user_letter in used_letters:\n",
    "            print(\"\\nYou already guessed that letter. Please try again!\")\n",
    "\n",
    "        else:\n",
    "            print(\"Invalid Character. Please try again\")\n",
    "    if lives == 0:\n",
    "        print(f'You died, sorry. The word was {word}')\n",
    "    else:\n",
    "        print(f'You guess the word - {word} !!')"
   ]
  },
  {
   "cell_type": "code",
   "execution_count": 52,
   "metadata": {},
   "outputs": [
    {
     "name": "stdout",
     "output_type": "stream",
     "text": [
      "You have 6 lives and you used these letters: \n",
      "Current word:  - - - -\n",
      "Guess a letter: h\n",
      "Letter is not in word.\n",
      "You have 5 lives and you used these letters: H\n",
      "Current word:  - - - -\n",
      "Guess a letter: a\n",
      "\n",
      "You have 5 lives and you used these letters: A H\n",
      "Current word:  A - - -\n",
      "Guess a letter: r\n",
      "Letter is not in word.\n",
      "You have 4 lives and you used these letters: R A H\n",
      "Current word:  A - - -\n",
      "Guess a letter: i\n",
      "Letter is not in word.\n",
      "You have 3 lives and you used these letters: R A I H\n",
      "Current word:  A - - -\n",
      "Guess a letter: w\n",
      "Letter is not in word.\n",
      "You have 2 lives and you used these letters: W I A H R\n",
      "Current word:  A - - -\n",
      "Guess a letter: x\n",
      "Letter is not in word.\n",
      "You have 1 lives and you used these letters: W I A H R X\n",
      "Current word:  A - - -\n",
      "Guess a letter: o\n",
      "Letter is not in word.\n",
      "You died, sorry. The word was ABLE\n"
     ]
    }
   ],
   "source": [
    "hangman()"
   ]
  },
  {
   "cell_type": "code",
   "execution_count": 53,
   "metadata": {},
   "outputs": [
    {
     "name": "stdout",
     "output_type": "stream",
     "text": [
      "You have 6 lives and you used these letters: \n",
      "Current word:  - - - - -\n",
      "Guess a letter: t\n",
      "\n",
      "You have 6 lives and you used these letters: T\n",
      "Current word:  - T - - -\n",
      "Guess a letter: a\n",
      "Letter is not in word.\n",
      "You have 5 lives and you used these letters: T A\n",
      "Current word:  - T - - -\n",
      "Guess a letter: i\n",
      "\n",
      "You have 5 lives and you used these letters: T I A\n",
      "Current word:  - T - I -\n",
      "Guess a letter: e\n",
      "Letter is not in word.\n",
      "You have 4 lives and you used these letters: T I E A\n",
      "Current word:  - T - I -\n",
      "Guess a letter: s\n",
      "\n",
      "You have 4 lives and you used these letters: T I S A E\n",
      "Current word:  S T - I -\n",
      "Guess a letter: e\n",
      "\n",
      "You already guessed that letter. Please try again!\n",
      "You have 4 lives and you used these letters: T I S A E\n",
      "Current word:  S T - I -\n",
      "Guess a letter: l\n",
      "Letter is not in word.\n",
      "You have 3 lives and you used these letters: T I S A E L\n",
      "Current word:  S T - I -\n",
      "Guess a letter: r\n",
      "\n",
      "You have 3 lives and you used these letters: T I S A E L R\n",
      "Current word:  S T R I -\n",
      "Guess a letter: p\n",
      "\n",
      "You guess the word - STRIP !!\n"
     ]
    }
   ],
   "source": [
    "hangman()"
   ]
  },
  {
   "cell_type": "markdown",
   "metadata": {},
   "source": [
    "\n"
   ]
  },
  {
   "cell_type": "code",
   "execution_count": null,
   "metadata": {},
   "outputs": [],
   "source": []
  },
  {
   "cell_type": "code",
   "execution_count": 67,
   "metadata": {},
   "outputs": [],
   "source": []
  },
  {
   "cell_type": "code",
   "execution_count": 68,
   "metadata": {},
   "outputs": [],
   "source": []
  },
  {
   "cell_type": "code",
   "execution_count": 75,
   "metadata": {},
   "outputs": [],
   "source": []
  },
  {
   "cell_type": "code",
   "execution_count": 81,
   "metadata": {},
   "outputs": [
    {
     "ename": "NameError",
     "evalue": "name 'TicTacToeAI' is not defined",
     "output_type": "error",
     "traceback": [
      "\u001b[1;31m---------------------------------------------------------------------------\u001b[0m",
      "\u001b[1;31mNameError\u001b[0m                                 Traceback (most recent call last)",
      "\u001b[1;32m<ipython-input-81-189f44ff4d06>\u001b[0m in \u001b[0;36m<module>\u001b[1;34m\u001b[0m\n\u001b[1;32m----> 1\u001b[1;33m \u001b[0mt\u001b[0m \u001b[1;33m=\u001b[0m \u001b[0mTicTacToeAI\u001b[0m\u001b[1;33m(\u001b[0m\u001b[1;33m)\u001b[0m\u001b[1;33m\u001b[0m\u001b[1;33m\u001b[0m\u001b[0m\n\u001b[0m\u001b[0;32m      2\u001b[0m \u001b[0mplay\u001b[0m\u001b[1;33m(\u001b[0m\u001b[0mt\u001b[0m\u001b[1;33m,\u001b[0m\u001b[0mx_player\u001b[0m\u001b[1;33m,\u001b[0m\u001b[0mo_player\u001b[0m\u001b[1;33m,\u001b[0m \u001b[0mprint_game\u001b[0m \u001b[1;33m=\u001b[0m \u001b[1;32mTrue\u001b[0m\u001b[1;33m)\u001b[0m\u001b[1;33m\u001b[0m\u001b[1;33m\u001b[0m\u001b[0m\n",
      "\u001b[1;31mNameError\u001b[0m: name 'TicTacToeAI' is not defined"
     ]
    }
   ],
   "source": []
  },
  {
   "cell_type": "code",
   "execution_count": null,
   "metadata": {},
   "outputs": [],
   "source": []
  }
 ],
 "metadata": {
  "kernelspec": {
   "display_name": "Python 3",
   "language": "python",
   "name": "python3"
  },
  "language_info": {
   "codemirror_mode": {
    "name": "ipython",
    "version": 3
   },
   "file_extension": ".py",
   "mimetype": "text/x-python",
   "name": "python",
   "nbconvert_exporter": "python",
   "pygments_lexer": "ipython3",
   "version": "3.8.5"
  }
 },
 "nbformat": 4,
 "nbformat_minor": 4
}
